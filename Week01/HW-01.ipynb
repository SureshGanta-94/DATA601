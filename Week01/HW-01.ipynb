{
 "cells": [
  {
   "cell_type": "markdown",
   "id": "d7314088",
   "metadata": {},
   "source": [
    "# Home Work - Week 01"
   ]
  },
  {
   "cell_type": "code",
   "execution_count": null,
   "id": "e7f97c30",
   "metadata": {},
   "outputs": [],
   "source": [
    "# Declare function to get the numbers divisible by 5\n",
    "def divisible_five(given_number):\n",
    "    my_list = []\n",
    "    # create a for loop between 1 to till given number\n",
    "    for i in range(1,given_number):\n",
    "        if(i % 5 == 0):\n",
    "            # add numbers to list if they are divisible by 5\n",
    "            my_list.append(i)\n",
    "    # printing list of numbers\n",
    "    return my_list\n",
    "\n",
    "divisible_five(121)"
   ]
  },
  {
   "cell_type": "code",
   "execution_count": null,
   "id": "8c50a541",
   "metadata": {},
   "outputs": [],
   "source": [
    "# Declare function to get numnbers that are divisible by 3 or 7\n",
    "def my_function(given_number):\n",
    "    # Create an empty list to store the numbers\n",
    "    List = []\n",
    "    # Create a for loop from 1 to given number\n",
    "    for i in range(1,given_number):\n",
    "        if (i%3==0 or i%7==0):\n",
    "            # Append numbers to List\n",
    "            List.append(i)    \n",
    "    # Print sum of numbers\n",
    "    return sum(List)\n",
    "\n",
    "\n",
    "my_function(10000)"
   ]
  },
  {
   "cell_type": "code",
   "execution_count": null,
   "id": "35ccf45e",
   "metadata": {},
   "outputs": [],
   "source": [
    "# Print Working Directory\n",
    "%pwd"
   ]
  },
  {
   "cell_type": "code",
   "execution_count": null,
   "id": "fca00019",
   "metadata": {},
   "outputs": [],
   "source": [
    "# Files and Folders in current directory\n",
    "%ls"
   ]
  },
  {
   "cell_type": "code",
   "execution_count": null,
   "id": "196da904",
   "metadata": {},
   "outputs": [],
   "source": [
    "# Creating Data directory under current working directory\n",
    "%mkdir \"Data\""
   ]
  },
  {
   "cell_type": "code",
   "execution_count": null,
   "id": "86eb1dbf",
   "metadata": {},
   "outputs": [],
   "source": [
    "# Changing to data directory\n",
    "%cd Data"
   ]
  },
  {
   "cell_type": "code",
   "execution_count": null,
   "id": "8c1e9a69",
   "metadata": {},
   "outputs": [],
   "source": [
    "# Creating content/my_directory under current working directory\n",
    "%mkdir \"content/my_directory\""
   ]
  },
  {
   "cell_type": "code",
   "execution_count": null,
   "id": "b7733253",
   "metadata": {},
   "outputs": [],
   "source": [
    "# Changing to my_directory\n",
    "%cd content/my_directory"
   ]
  },
  {
   "cell_type": "code",
   "execution_count": null,
   "id": "d91002fb",
   "metadata": {},
   "outputs": [],
   "source": [
    "%%writefile \"my_script.py\"\n",
    "print(\"Suresh-Ganta\")"
   ]
  },
  {
   "cell_type": "code",
   "execution_count": null,
   "id": "4889a7f1",
   "metadata": {},
   "outputs": [],
   "source": [
    "# Running my_script.py file\n",
    "%run my_script.py"
   ]
  },
  {
   "cell_type": "code",
   "execution_count": null,
   "id": "d1049392",
   "metadata": {},
   "outputs": [],
   "source": []
  }
 ],
 "metadata": {
  "kernelspec": {
   "display_name": "Python 3",
   "language": "python",
   "name": "python3"
  },
  "language_info": {
   "codemirror_mode": {
    "name": "ipython",
    "version": 3
   },
   "file_extension": ".py",
   "mimetype": "text/x-python",
   "name": "python",
   "nbconvert_exporter": "python",
   "pygments_lexer": "ipython3",
   "version": "3.8.8"
  }
 },
 "nbformat": 4,
 "nbformat_minor": 5
}

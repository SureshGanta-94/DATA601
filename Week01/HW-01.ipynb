{
 "cells": [
  {
   "cell_type": "markdown",
   "id": "d7314088",
   "metadata": {},
   "source": [
    "# Home Work - Week 01"
   ]
  },
  {
   "cell_type": "code",
   "execution_count": 1,
   "id": "e7f97c30",
   "metadata": {},
   "outputs": [
    {
     "data": {
      "text/plain": [
       "[5,\n",
       " 10,\n",
       " 15,\n",
       " 20,\n",
       " 25,\n",
       " 30,\n",
       " 35,\n",
       " 40,\n",
       " 45,\n",
       " 50,\n",
       " 55,\n",
       " 60,\n",
       " 65,\n",
       " 70,\n",
       " 75,\n",
       " 80,\n",
       " 85,\n",
       " 90,\n",
       " 95,\n",
       " 100,\n",
       " 105,\n",
       " 110,\n",
       " 115,\n",
       " 120]"
      ]
     },
     "execution_count": 1,
     "metadata": {},
     "output_type": "execute_result"
    }
   ],
   "source": [
    "# Declare function to get the numbers divisible by 5\n",
    "def divisible_five(given_number):\n",
    "    my_list = []\n",
    "    # create a for loop between 1 to till given number\n",
    "    for i in range(1,given_number):\n",
    "        if(i % 5 == 0):\n",
    "            # add numbers to list if they are divisible by 5\n",
    "            my_list.append(i)\n",
    "    # printing list of numbers\n",
    "    return my_list\n",
    "\n",
    "divisible_five(121)"
   ]
  },
  {
   "cell_type": "code",
   "execution_count": 2,
   "id": "8c50a541",
   "metadata": {},
   "outputs": [
    {
     "data": {
      "text/plain": [
       "21426429"
      ]
     },
     "execution_count": 2,
     "metadata": {},
     "output_type": "execute_result"
    }
   ],
   "source": [
    "# Declare function to get numnbers that are divisible by 3 or 7\n",
    "def my_function(given_number):\n",
    "    # Create an empty list to store the numbers\n",
    "    List = []\n",
    "    # Create a for loop from 1 to given number\n",
    "    for i in range(1,given_number):\n",
    "        if (i%3==0 or i%7==0):\n",
    "            # Append numbers to List\n",
    "            List.append(i)    \n",
    "    # Print sum of numbers\n",
    "    return sum(List)\n",
    "\n",
    "\n",
    "my_function(10000)"
   ]
  },
  {
   "cell_type": "code",
   "execution_count": 3,
   "id": "35ccf45e",
   "metadata": {},
   "outputs": [
    {
     "data": {
      "text/plain": [
       "'D:\\\\Suresh\\\\Data 601\\\\DATA601\\\\Week01'"
      ]
     },
     "execution_count": 3,
     "metadata": {},
     "output_type": "execute_result"
    }
   ],
   "source": [
    "# Print Working Directory\n",
    "%pwd"
   ]
  },
  {
   "cell_type": "code",
   "execution_count": 4,
   "id": "fca00019",
   "metadata": {},
   "outputs": [
    {
     "name": "stdout",
     "output_type": "stream",
     "text": [
      " Volume in drive D is Work\n",
      " Volume Serial Number is 02F7-0518\n",
      "\n",
      " Directory of D:\\Suresh\\Data 601\\DATA601\\Week01\n",
      "\n",
      "09/06/2021  05:54 PM    <DIR>          .\n",
      "09/06/2021  05:54 PM    <DIR>          ..\n",
      "09/06/2021  05:51 PM    <DIR>          .ipynb_checkpoints\n",
      "09/06/2021  05:49 PM    <DIR>          Data\n",
      "09/06/2021  05:54 PM             3,528 HW-01.ipynb\n",
      "09/06/2021  05:19 PM                 0 Summary.txt\n",
      "               2 File(s)          3,528 bytes\n",
      "               4 Dir(s)  214,641,700,864 bytes free\n"
     ]
    }
   ],
   "source": [
    "# Files and Folders in current directory\n",
    "%ls"
   ]
  },
  {
   "cell_type": "code",
   "execution_count": 5,
   "id": "196da904",
   "metadata": {},
   "outputs": [
    {
     "name": "stderr",
     "output_type": "stream",
     "text": [
      "A subdirectory or file Data already exists.\n"
     ]
    }
   ],
   "source": [
    "# Creating Data directory under current working directory\n",
    "%mkdir \"Data\""
   ]
  },
  {
   "cell_type": "code",
   "execution_count": 6,
   "id": "86eb1dbf",
   "metadata": {},
   "outputs": [
    {
     "name": "stdout",
     "output_type": "stream",
     "text": [
      "D:\\Suresh\\Data 601\\DATA601\\Week01\\Data\n"
     ]
    }
   ],
   "source": [
    "# Changing to data directory\n",
    "%cd Data"
   ]
  },
  {
   "cell_type": "code",
   "execution_count": 7,
   "id": "8c1e9a69",
   "metadata": {},
   "outputs": [
    {
     "name": "stderr",
     "output_type": "stream",
     "text": [
      "A subdirectory or file content/my_directory already exists.\n"
     ]
    }
   ],
   "source": [
    "# Creating content/my_directory under current working directory\n",
    "%mkdir \"content/my_directory\""
   ]
  },
  {
   "cell_type": "code",
   "execution_count": 8,
   "id": "b7733253",
   "metadata": {},
   "outputs": [
    {
     "name": "stdout",
     "output_type": "stream",
     "text": [
      "D:\\Suresh\\Data 601\\DATA601\\Week01\\Data\\content\\my_directory\n"
     ]
    }
   ],
   "source": [
    "# Changing to my_directory\n",
    "%cd content/my_directory"
   ]
  },
  {
   "cell_type": "code",
   "execution_count": 9,
   "id": "d91002fb",
   "metadata": {},
   "outputs": [
    {
     "name": "stdout",
     "output_type": "stream",
     "text": [
      "Overwriting my_script.py\n"
     ]
    }
   ],
   "source": [
    "%%writefile \"my_script.py\"\n",
    "print(\"Suresh-Ganta\")"
   ]
  },
  {
   "cell_type": "code",
   "execution_count": 10,
   "id": "4889a7f1",
   "metadata": {},
   "outputs": [
    {
     "name": "stdout",
     "output_type": "stream",
     "text": [
      "Suresh-Ganta\n"
     ]
    }
   ],
   "source": [
    "# Running my_script.py file\n",
    "%run my_script.py"
   ]
  },
  {
   "cell_type": "code",
   "execution_count": null,
   "id": "d1049392",
   "metadata": {},
   "outputs": [],
   "source": []
  }
 ],
 "metadata": {
  "kernelspec": {
   "display_name": "Python 3",
   "language": "python",
   "name": "python3"
  },
  "language_info": {
   "codemirror_mode": {
    "name": "ipython",
    "version": 3
   },
   "file_extension": ".py",
   "mimetype": "text/x-python",
   "name": "python",
   "nbconvert_exporter": "python",
   "pygments_lexer": "ipython3",
   "version": "3.8.8"
  }
 },
 "nbformat": 4,
 "nbformat_minor": 5
}

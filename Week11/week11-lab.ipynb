{
 "cells": [
  {
   "cell_type": "markdown",
   "id": "72fa4223",
   "metadata": {},
   "source": [
    "# Week11 Lab\n",
    "\n",
    "Write a `ArrayList` class for a basic replacement of list type. \n",
    "It should have the following methods.\n",
    "When you add 2 instances of this type, it should add side by side like pandas Series\n",
    "\n",
    "* append\n",
    "* clear\n",
    "* `__getitem__`\n",
    "* `__add__`"
   ]
  },
  {
   "cell_type": "code",
   "execution_count": 1,
   "id": "b05b5884",
   "metadata": {},
   "outputs": [
    {
     "data": {
      "text/plain": [
       "[1, 2, 1, 2]"
      ]
     },
     "execution_count": 1,
     "metadata": {},
     "output_type": "execute_result"
    }
   ],
   "source": [
    "[1,2] + [1,2]"
   ]
  },
  {
   "cell_type": "code",
   "execution_count": 17,
   "id": "163f4faf",
   "metadata": {},
   "outputs": [],
   "source": [
    "class ArrayList:\n",
    "    \n",
    "    def __init__(self):\n",
    "        self.arr = []\n",
    "    \n",
    "    def append(self,value):\n",
    "        self.arr.append(value)\n",
    "    \n",
    "    def clear(self):\n",
    "        self.arr.clear()\n",
    "    \n",
    "    def __len__(self):\n",
    "        return len(self.arr)\n",
    "    \n",
    "    def __getitem__(self,ix):\n",
    "        return self.arr[ix]\n",
    "    \n",
    "    def __add__(self,other):\n",
    "        if len(self.arr) != len(other):\n",
    "            raise ValueError('not same length')\n",
    "        \n",
    "        obj = ArrayList()\n",
    "        for x,y in zip(self.arr,other.arr):\n",
    "            obj.append(x+y)\n",
    "        \n",
    "        return obj\n",
    "        \n",
    "    def __repr__(self):\n",
    "        return str(self.arr)"
   ]
  },
  {
   "cell_type": "code",
   "execution_count": 18,
   "id": "a736429f",
   "metadata": {},
   "outputs": [],
   "source": [
    "o1 = ArrayList()"
   ]
  },
  {
   "cell_type": "code",
   "execution_count": 19,
   "id": "b71f98f5",
   "metadata": {},
   "outputs": [],
   "source": [
    "o1.append(1)\n",
    "o1.append(2)"
   ]
  },
  {
   "cell_type": "code",
   "execution_count": 20,
   "id": "dcd3c734",
   "metadata": {},
   "outputs": [],
   "source": [
    "o2 = ArrayList()"
   ]
  },
  {
   "cell_type": "code",
   "execution_count": 21,
   "id": "b11331f8",
   "metadata": {},
   "outputs": [],
   "source": [
    "o2.append(1)\n",
    "o2.append(2)"
   ]
  },
  {
   "cell_type": "code",
   "execution_count": 22,
   "id": "a308ca46",
   "metadata": {},
   "outputs": [
    {
     "data": {
      "text/plain": [
       "[2, 4]"
      ]
     },
     "execution_count": 22,
     "metadata": {},
     "output_type": "execute_result"
    }
   ],
   "source": [
    "o1+o2"
   ]
  },
  {
   "cell_type": "code",
   "execution_count": null,
   "id": "572bcd83",
   "metadata": {},
   "outputs": [],
   "source": []
  }
 ],
 "metadata": {
  "kernelspec": {
   "display_name": "Python 3",
   "language": "python",
   "name": "python3"
  },
  "language_info": {
   "codemirror_mode": {
    "name": "ipython",
    "version": 3
   },
   "file_extension": ".py",
   "mimetype": "text/x-python",
   "name": "python",
   "nbconvert_exporter": "python",
   "pygments_lexer": "ipython3",
   "version": "3.8.8"
  },
  "toc": {
   "base_numbering": 1,
   "nav_menu": {},
   "number_sections": true,
   "sideBar": true,
   "skip_h1_title": false,
   "title_cell": "Table of Contents",
   "title_sidebar": "Contents",
   "toc_cell": false,
   "toc_position": {},
   "toc_section_display": true,
   "toc_window_display": false
  }
 },
 "nbformat": 4,
 "nbformat_minor": 5
}

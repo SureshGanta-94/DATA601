{
 "cells": [
  {
   "cell_type": "markdown",
   "id": "dcaf870c",
   "metadata": {},
   "source": [
    "# Part-IV\n",
    "\n",
    "## Lab Part1\n",
    "\n",
    "Please choose appropriate graph and visualize the followings with correct/appropriate labels\n",
    "\n",
    "* Height only\n",
    "* Points only\n",
    "* Height vs Points"
   ]
  },
  {
   "cell_type": "code",
   "execution_count": null,
   "id": "a22f3840",
   "metadata": {},
   "outputs": [],
   "source": [
    "import pandas as pd\n",
    "\n",
    "nba_players = pd.read_csv('https://raw.githubusercontent.com/msaricaumbc/DS601_Fall21/main/Week02/data/all_seasons.csv', index_col = 0)\n",
    "\n",
    "height = nba_players['player_height']\n",
    "points = nba_players['pts']"
   ]
  }
 ],
 "metadata": {
  "kernelspec": {
   "display_name": "Python 3",
   "language": "python",
   "name": "python3"
  },
  "language_info": {
   "codemirror_mode": {
    "name": "ipython",
    "version": 3
   },
   "file_extension": ".py",
   "mimetype": "text/x-python",
   "name": "python",
   "nbconvert_exporter": "python",
   "pygments_lexer": "ipython3",
   "version": "3.8.8"
  }
 },
 "nbformat": 4,
 "nbformat_minor": 5
}

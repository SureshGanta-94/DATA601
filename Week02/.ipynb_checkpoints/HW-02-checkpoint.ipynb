{
 "cells": [
  {
   "cell_type": "markdown",
   "id": "a01abe1b",
   "metadata": {},
   "source": [
    "## Homework 2\n",
    "\n",
    "Please complete the functions below. These functions are for to simulate a fair and a biased die. \n",
    "\n",
    "The biased die has probabilities {0.25, 0.15, 0.15, 0.15, 0.15, 0.15}.\n",
    "\n",
    "Create 2 visualizations that shows outcomes of multiple rolls of a fair die and biased die. \n",
    "* Visualization for fair die\n",
    "* Visualization for biased die\n",
    "\n",
    "Repeat the process programatically and take the mean to create a new list. This list will be used to compare means of biased & unbiased dice. \n",
    "* Create a historgram showing means of biased & unbiased die\n",
    "\n",
    "* Use subcharts\n",
    "* All visualizations must have appropriate titles.\n",
    "* There are 3 visualization and expected format is \n",
    "```\n",
    " [V1] [V2]\n",
    " [   V3  ]\n",
    " ```"
   ]
  },
  {
   "cell_type": "code",
   "execution_count": 1,
   "id": "ba3224e6",
   "metadata": {},
   "outputs": [],
   "source": [
    "import random \n",
    "import matplotlib.pyplot as plt\n",
    "\n",
    "trial_count = 500\n",
    "\n",
    "# Creating function for fair die simulation\n",
    "def fair_die_simulation(trials):\n",
    "    options = [1,2,3,4,5,6]\n",
    "    simulations = []\n",
    "    # Creating \"for\" loop for number of trials\n",
    "    for i in range(0,trials):\n",
    "        # Appending each outcome of die to the simulations list\n",
    "        simulations.append(random.choice(options))\n",
    "    return simulations"
   ]
  },
  {
   "cell_type": "code",
   "execution_count": 2,
   "id": "bbc9b6ec",
   "metadata": {},
   "outputs": [],
   "source": [
    "# Creating function for biased die simulation\n",
    "def biased_die_simuations(trials, weights=[0.25,0.15,0.15,0.15,0.15,0.15]):\n",
    "    \n",
    "    options = [1,2,3,4,5,6]\n",
    "    simulations = []\n",
    "    # Creating variables to save range values using weights\n",
    "    weight1 = weights[0]\n",
    "    weight2 = weights[0] + weights[1]\n",
    "    weight3 = weights[0] + weights[1] + weights[2]\n",
    "    weight4 = weights[0] + weights[1] + weights[2] + weights[3]\n",
    "    weight5 = weights[0] + weights[1] + weights[2] + weights[3] + weights[4]\n",
    "    \n",
    "    # Creating for loop for number of trials\n",
    "    for i in range(0, trials):\n",
    "        die_roll = random.random()\n",
    "        if 0 <= die_roll <= weight1:\n",
    "            # Appending value \"1\" to simulations list if die_roll output is between (0,0.25) in this case\n",
    "            simulations.append(options[0])\n",
    "        elif weight1 < die_roll <= weight2:\n",
    "            # Appending value \"2\" to simulations list if die_roll output is between (0.25,0.4) in this case and so on..\n",
    "            simulations.append(options[1])\n",
    "        elif weight2 < die_roll <= weight3:\n",
    "            simulations.append(options[2])\n",
    "        elif weight3 < die_roll <= weight4:\n",
    "            simulations.append(options[3])\n",
    "        elif weight4 < die_roll <= weight5:\n",
    "            simulations.append(options[4])\n",
    "        else:\n",
    "            simulations.append(options[5])\n",
    "    return simulations"
   ]
  },
  {
   "cell_type": "code",
   "execution_count": 3,
   "id": "60999a3f",
   "metadata": {},
   "outputs": [],
   "source": [
    "# Creating two separate lists for both biased and unbiased die\n",
    "biased_mean_list = []\n",
    "unbiased_mean_list = []\n",
    "# Creating for loop for number of trials for mean\n",
    "for i in range(0,trial_count):\n",
    "    fair = fair_die_simulation(trial_count)\n",
    "    biased = biased_die_simuations(trial_count)\n",
    "    # calculating fair die mean value for each iteration\n",
    "    fair_average = sum(fair)/len(fair)\n",
    "    # appending mean values to unbiased list\n",
    "    unbiased_mean_list.append(fair_average)\n",
    "    # calcuting biased die mean value for each iteration\n",
    "    biased_average = sum(biased)/len(biased)\n",
    "    # appending mean values to biased list\n",
    "    biased_mean_list.append(biased_average)"
   ]
  },
  {
   "cell_type": "code",
   "execution_count": 4,
   "id": "4421fe90",
   "metadata": {},
   "outputs": [
    {
     "data": {
      "image/png": "[encoded data removed]",
      "text/plain": [
       "<Figure size 720x576 with 3 Axes>"
      ]
     },
     "metadata": {
      "needs_background": "light"
     },
     "output_type": "display_data"
    }
   ],
   "source": [
    "# Plotting histogram sub-plots for fair, biased and comparision of mean values for fair & biased\n",
    "plt.figure(figsize=(10,8))\n",
    "# subplot of fair die\n",
    "plt.subplot(2,2,1)\n",
    "plt.hist(fair_die_simulation(trial_count),6,color='b',edgecolor='k',alpha=0.5)\n",
    "plt.title(\"Fair Die Chart\")\n",
    "plt.xlabel(\"Die Numbers\")\n",
    "plt.ylabel(\"No. of outcomes\")\n",
    "\n",
    "# subplot of biased die\n",
    "plt.subplot(2,2,2)\n",
    "plt.hist(biased_die_simuations(trial_count), 6,color='y',edgecolor='k',alpha=0.5)\n",
    "plt.title(\"Biased Die Chart\")\n",
    "plt.xlabel(\"Die Numbers\")\n",
    "plt.ylabel(\"No. of outcomes\")\n",
    "\n",
    "# subplot for means comaprision for fair and biased die\n",
    "plt.subplot(2,2,(3,4))\n",
    "plt.hist(unbiased_mean_list, edgecolor='k', label= \"unbiased\")\n",
    "plt.hist(biased_mean_list,edgecolor='k', label= \"biased\")\n",
    "plt.title(\"Comparision of Fair and Biased Die\")\n",
    "plt.xlabel(\"Mean\")\n",
    "plt.ylabel(\"No. of outcomes of mean\")\n",
    "plt.legend(loc='upper right')\n",
    "plt.tight_layout()\n",
    "plt.show()"
   ]
  }
 ],
 "metadata": {
  "kernelspec": {
   "display_name": "Python 3",
   "language": "python",
   "name": "python3"
  },
  "language_info": {
   "codemirror_mode": {
    "name": "ipython",
    "version": 3
   },
   "file_extension": ".py",
   "mimetype": "text/x-python",
   "name": "python",
   "nbconvert_exporter": "python",
   "pygments_lexer": "ipython3",
   "version": "3.8.8"
  }
 },
 "nbformat": 4,
 "nbformat_minor": 5
}
